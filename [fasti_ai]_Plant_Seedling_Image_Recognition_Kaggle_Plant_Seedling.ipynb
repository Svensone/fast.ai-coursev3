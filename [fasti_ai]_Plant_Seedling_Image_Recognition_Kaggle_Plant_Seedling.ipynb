{
  "nbformat": 4,
  "nbformat_minor": 0,
  "metadata": {
    "colab": {
      "name": "[fasti.ai] Plant- Seedling Image Recognition - Kaggle Plant Seedling.ipynb",
      "provenance": [],
      "collapsed_sections": [],
      "authorship_tag": "ABX9TyPS6TWgdWKzdVY+xRNM//QF",
      "include_colab_link": true
    },
    "kernelspec": {
      "name": "python3",
      "display_name": "Python 3"
    },
    "accelerator": "GPU"
  },
  "cells": [
    {
      "cell_type": "markdown",
      "metadata": {
        "id": "view-in-github",
        "colab_type": "text"
      },
      "source": [
        "<a href=\"https://colab.research.google.com/github/Svensone/fast.ai-coursev3/blob/master/%5Bfasti_ai%5D_Plant_Seedling_Image_Recognition_Kaggle_Plant_Seedling.ipynb\" target=\"_parent\"><img src=\"https://colab.research.google.com/assets/colab-badge.svg\" alt=\"Open In Colab\"/></a>"
      ]
    },
    {
      "cell_type": "code",
      "metadata": {
        "id": "yG4LIP3QplNC",
        "colab_type": "code",
        "outputId": "f3ead3ee-5a72-4562-fcb5-503bcc01879c",
        "colab": {
          "base_uri": "https://localhost:8080/",
          "height": 105
        }
      },
      "source": [
        "# Check if fastai and pytorch are installed\n",
        "!pip list | grep -e fastai -e torch -e torchvision"
      ],
      "execution_count": 0,
      "outputs": [
        {
          "output_type": "stream",
          "text": [
            "fastai                   1.0.61         \n",
            "torch                    1.5.0+cu101    \n",
            "torchsummary             1.5.1          \n",
            "torchtext                0.3.1          \n",
            "torchvision              0.6.0+cu101    \n"
          ],
          "name": "stdout"
        }
      ]
    },
    {
      "cell_type": "code",
      "metadata": {
        "id": "rDZkpn0SDFJl",
        "colab_type": "code",
        "outputId": "de253759-d977-44e2-9f0e-a88eefcbdacb",
        "colab": {
          "base_uri": "https://localhost:8080/",
          "height": 125
        }
      },
      "source": [
        "# connect to gdrive\n",
        "from google.colab import drive\n",
        "drive.mount('/content/drive')"
      ],
      "execution_count": 0,
      "outputs": [
        {
          "output_type": "stream",
          "text": [
            "Go to this URL in a browser: https://accounts.google.com/o/oauth2/auth?client_id=947318989803-6bn6qk8qdgf4n4g3pfee6491hc0brc4i.apps.googleusercontent.com&redirect_uri=urn%3aietf%3awg%3aoauth%3a2.0%3aoob&response_type=code&scope=email%20https%3a%2f%2fwww.googleapis.com%2fauth%2fdocs.test%20https%3a%2f%2fwww.googleapis.com%2fauth%2fdrive%20https%3a%2f%2fwww.googleapis.com%2fauth%2fdrive.photos.readonly%20https%3a%2f%2fwww.googleapis.com%2fauth%2fpeopleapi.readonly\n",
            "\n",
            "Enter your authorization code:\n",
            "··········\n",
            "Mounted at /content/drive\n"
          ],
          "name": "stdout"
        }
      ]
    },
    {
      "cell_type": "code",
      "metadata": {
        "id": "H8WA0sSEpvdS",
        "colab_type": "code",
        "colab": {}
      },
      "source": [
        "# WATCH OUT when upload to KAGGLE or GITHUB ... API KEY !!!!!!!!!!\n",
        "\n",
        "# Install Kaggle and register API Key\n",
        "\n",
        "!pip install -U -q kaggle\n",
        "!mkdir -p ~/.kaggle\n",
        "!echo '{\"username\":\"\",\"key\":\"\"}' > ~/.kaggle/kaggle.json\n",
        "!chmod 600 ~/.kaggle/kaggle.json"
      ],
      "execution_count": 0,
      "outputs": []
    },
    {
      "cell_type": "code",
      "metadata": {
        "id": "37WJ1s6tq-qc",
        "colab_type": "code",
        "colab": {}
      },
      "source": [
        "# create 'content' folder\n",
        "\n",
        "import os\n",
        "if os.getcwd() != '/content':\n",
        "    os.chdir('/content')\n",
        "    print(\"Directory changed.\")"
      ],
      "execution_count": 0,
      "outputs": []
    },
    {
      "cell_type": "code",
      "metadata": {
        "id": "3Egwvt4c-O40",
        "colab_type": "code",
        "outputId": "ed883f97-be34-4d60-f5be-9f2e49c69fdc",
        "colab": {
          "base_uri": "https://localhost:8080/",
          "height": 34
        }
      },
      "source": [
        "!kaggle datasets list -m"
      ],
      "execution_count": 0,
      "outputs": [
        {
          "output_type": "stream",
          "text": [
            "401 - Unauthorized\n"
          ],
          "name": "stdout"
        }
      ]
    },
    {
      "cell_type": "code",
      "metadata": {
        "id": "u8y_5f-JrCx7",
        "colab_type": "code",
        "outputId": "97129f01-f245-4756-9abb-f1de3a76e215",
        "colab": {
          "base_uri": "https://localhost:8080/",
          "height": 381
        }
      },
      "source": [
        "# download dataset and unzip\n",
        "\n",
        "!kaggle datasets download -d vbookshelf/v2-plant-seedlings-dataset --force\n",
        "\n",
        "import zipfile\n",
        "with zipfile.ZipFile(\"v2-plant-seedlings-dataset.zip\",\"r\") as zip_ref:\n",
        "    zip_ref.extractall(\"plant-seedlings-data\")"
      ],
      "execution_count": 0,
      "outputs": [
        {
          "output_type": "stream",
          "text": [
            "401 - Unauthorized\n"
          ],
          "name": "stdout"
        },
        {
          "output_type": "error",
          "ename": "FileNotFoundError",
          "evalue": "ignored",
          "traceback": [
            "\u001b[0;31m---------------------------------------------------------------------------\u001b[0m",
            "\u001b[0;31mFileNotFoundError\u001b[0m                         Traceback (most recent call last)",
            "\u001b[0;32m<ipython-input-6-32c84fa449cd>\u001b[0m in \u001b[0;36m<module>\u001b[0;34m()\u001b[0m\n\u001b[1;32m      4\u001b[0m \u001b[0;34m\u001b[0m\u001b[0m\n\u001b[1;32m      5\u001b[0m \u001b[0;32mimport\u001b[0m \u001b[0mzipfile\u001b[0m\u001b[0;34m\u001b[0m\u001b[0;34m\u001b[0m\u001b[0m\n\u001b[0;32m----> 6\u001b[0;31m \u001b[0;32mwith\u001b[0m \u001b[0mzipfile\u001b[0m\u001b[0;34m.\u001b[0m\u001b[0mZipFile\u001b[0m\u001b[0;34m(\u001b[0m\u001b[0;34m\"v2-plant-seedlings-dataset.zip\"\u001b[0m\u001b[0;34m,\u001b[0m\u001b[0;34m\"r\"\u001b[0m\u001b[0;34m)\u001b[0m \u001b[0;32mas\u001b[0m \u001b[0mzip_ref\u001b[0m\u001b[0;34m:\u001b[0m\u001b[0;34m\u001b[0m\u001b[0;34m\u001b[0m\u001b[0m\n\u001b[0m\u001b[1;32m      7\u001b[0m     \u001b[0mzip_ref\u001b[0m\u001b[0;34m.\u001b[0m\u001b[0mextractall\u001b[0m\u001b[0;34m(\u001b[0m\u001b[0;34m\"plant-seedlings-data\"\u001b[0m\u001b[0;34m)\u001b[0m\u001b[0;34m\u001b[0m\u001b[0;34m\u001b[0m\u001b[0m\n",
            "\u001b[0;32m/usr/lib/python3.6/zipfile.py\u001b[0m in \u001b[0;36m__init__\u001b[0;34m(self, file, mode, compression, allowZip64)\u001b[0m\n\u001b[1;32m   1111\u001b[0m             \u001b[0;32mwhile\u001b[0m \u001b[0;32mTrue\u001b[0m\u001b[0;34m:\u001b[0m\u001b[0;34m\u001b[0m\u001b[0;34m\u001b[0m\u001b[0m\n\u001b[1;32m   1112\u001b[0m                 \u001b[0;32mtry\u001b[0m\u001b[0;34m:\u001b[0m\u001b[0;34m\u001b[0m\u001b[0;34m\u001b[0m\u001b[0m\n\u001b[0;32m-> 1113\u001b[0;31m                     \u001b[0mself\u001b[0m\u001b[0;34m.\u001b[0m\u001b[0mfp\u001b[0m \u001b[0;34m=\u001b[0m \u001b[0mio\u001b[0m\u001b[0;34m.\u001b[0m\u001b[0mopen\u001b[0m\u001b[0;34m(\u001b[0m\u001b[0mfile\u001b[0m\u001b[0;34m,\u001b[0m \u001b[0mfilemode\u001b[0m\u001b[0;34m)\u001b[0m\u001b[0;34m\u001b[0m\u001b[0;34m\u001b[0m\u001b[0m\n\u001b[0m\u001b[1;32m   1114\u001b[0m                 \u001b[0;32mexcept\u001b[0m \u001b[0mOSError\u001b[0m\u001b[0;34m:\u001b[0m\u001b[0;34m\u001b[0m\u001b[0;34m\u001b[0m\u001b[0m\n\u001b[1;32m   1115\u001b[0m                     \u001b[0;32mif\u001b[0m \u001b[0mfilemode\u001b[0m \u001b[0;32min\u001b[0m \u001b[0mmodeDict\u001b[0m\u001b[0;34m:\u001b[0m\u001b[0;34m\u001b[0m\u001b[0;34m\u001b[0m\u001b[0m\n",
            "\u001b[0;31mFileNotFoundError\u001b[0m: [Errno 2] No such file or directory: 'v2-plant-seedlings-dataset.zip'"
          ]
        }
      ]
    },
    {
      "cell_type": "code",
      "metadata": {
        "id": "W8yRd-IKrFoB",
        "colab_type": "code",
        "colab": {}
      },
      "source": [
        "\n",
        "labels = os.listdir(\"plant-seedlings-data\")\n",
        "print(\"No. of labels: {}\".format(len(labels)))\n",
        "print(\"----------\")\n",
        "\n",
        "for label in labels:\n",
        "  print(\"{}, {} files\".format(label, len(os.listdir(\"plant-seedlings-data/\"+label))))"
      ],
      "execution_count": 0,
      "outputs": []
    },
    {
      "cell_type": "code",
      "metadata": {
        "id": "nYw46_9osWbD",
        "colab_type": "code",
        "colab": {}
      },
      "source": [
        "import numpy as np\n",
        "import matplotlib.pyplot as plt\n",
        "from PIL import Image\n",
        "\n",
        "fig, ax = plt.subplots(nrows= 3, ncols=4)\n",
        "fig.tight_layout()\n",
        "cnt = 0\n",
        "\n",
        "for row in ax:\n",
        "  for col in row:\n",
        "    image_name = np.random.choice(os.listdir(data_path+\"/\"+labels[cnt]))\n",
        "    im = Image.open('plant-seedlings-data/{}/{}'.format(labels[cnt], image_name))\n",
        "    col.imshow(im)\n",
        "    col.set_title(labels[cnt])\n",
        "    col.axis('off')\n",
        "    cnt += 1\n",
        "plt.show()\n"
      ],
      "execution_count": 0,
      "outputs": []
    },
    {
      "cell_type": "code",
      "metadata": {
        "id": "BIdM0Bv1_0tp",
        "colab_type": "code",
        "colab": {}
      },
      "source": [
        ""
      ],
      "execution_count": 0,
      "outputs": []
    },
    {
      "cell_type": "code",
      "metadata": {
        "id": "1qat087vuyvL",
        "colab_type": "code",
        "colab": {}
      },
      "source": [
        "## 3. Creating the model\n",
        "\n",
        "from fastai.vision import *\n",
        "from fastai.metrics import accuracy\n",
        "\n"
      ],
      "execution_count": 0,
      "outputs": []
    },
    {
      "cell_type": "code",
      "metadata": {
        "id": "vvsMenjmvvSz",
        "colab_type": "code",
        "colab": {}
      },
      "source": [
        "# create Data ImageDataBunch\n",
        "\n",
        "# transform Images\n",
        "# parameters\n",
        "\n",
        "path = './plant-seedlings-data/'\n",
        "bs = 64\n",
        "size = 224 # image-size\n",
        "\n",
        "data = ImageDataBunch.from_folder(path, \n",
        "                                  ds_tfms=get_transforms(do_flip=True, flip_vert=True),\n",
        "                                  valid_pct=0.2, size=size, bs=bs)"
      ],
      "execution_count": 0,
      "outputs": []
    },
    {
      "cell_type": "code",
      "metadata": {
        "id": "AvHNHPFLwTAK",
        "colab_type": "code",
        "colab": {}
      },
      "source": [
        "# normalize data (imagenet, cifar and mnist possible)\n",
        "# since later resnet trained on ImageNet normalization on ImageNet\n",
        "\n",
        "data.normalize(imagenet_stats)"
      ],
      "execution_count": 0,
      "outputs": []
    },
    {
      "cell_type": "code",
      "metadata": {
        "id": "0hUM5SEt3Nio",
        "colab_type": "code",
        "colab": {}
      },
      "source": [
        "# create Model\n",
        "\n",
        "learner = create_cnn(data, \n",
        "                     models.resnet18, \n",
        "                     metrics=[accuracy], \n",
        "                     callback_fns=ShowGraph)"
      ],
      "execution_count": 0,
      "outputs": []
    },
    {
      "cell_type": "markdown",
      "metadata": {
        "id": "T3YZAplu5EXU",
        "colab_type": "text"
      },
      "source": [
        ""
      ]
    },
    {
      "cell_type": "code",
      "metadata": {
        "id": "Jii6xrdk3xEC",
        "colab_type": "code",
        "colab": {}
      },
      "source": [
        "learner.lr_find()\n",
        "learner.recorder.plot()"
      ],
      "execution_count": 0,
      "outputs": []
    },
    {
      "cell_type": "code",
      "metadata": {
        "id": "Pplo0kKj4NB-",
        "colab_type": "code",
        "colab": {}
      },
      "source": [
        "learner.fit_one_cycle(8, max_lr= slice(1e-3, 1e-2))"
      ],
      "execution_count": 0,
      "outputs": []
    },
    {
      "cell_type": "code",
      "metadata": {
        "id": "3_iO8Oxc5_6d",
        "colab_type": "code",
        "colab": {}
      },
      "source": [
        "# Interpret Results\n",
        "\n",
        "interpreter = ClassificationInterpretation.from_learner(learner)\n",
        "\n",
        "interpreter.most_confused(min_val=2)"
      ],
      "execution_count": 0,
      "outputs": []
    },
    {
      "cell_type": "code",
      "metadata": {
        "id": "ZVFWtgYDGP_B",
        "colab_type": "code",
        "colab": {}
      },
      "source": [
        ""
      ],
      "execution_count": 0,
      "outputs": []
    },
    {
      "cell_type": "code",
      "metadata": {
        "id": "ak35DeRRGQRg",
        "colab_type": "code",
        "colab": {}
      },
      "source": [
        "## Improving the Model\n",
        "\n",
        "### Unfreeze the model and fine-tune"
      ],
      "execution_count": 0,
      "outputs": []
    },
    {
      "cell_type": "code",
      "metadata": {
        "id": "25QG6ftQGpDW",
        "colab_type": "code",
        "colab": {}
      },
      "source": [
        "# save weights and unfreeze\n",
        "\n",
        "model.save('stage-1')\n",
        "#model.load('stage-1')\n",
        "\n",
        "learner.unfreeze()\n",
        "\n",
        "learner.fit_one_cycle(2, max_lr = 1e-5, 1e-4)"
      ],
      "execution_count": 0,
      "outputs": []
    }
  ]
}